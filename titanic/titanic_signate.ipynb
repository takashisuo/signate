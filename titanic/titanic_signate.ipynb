{
 "cells": [
  {
   "cell_type": "code",
   "execution_count": 2,
   "metadata": {},
   "outputs": [],
   "source": [
    "import os\n",
    "import pandas as pd\n",
    "import numpy as np\n",
    "import matplotlib.pyplot as plt\n",
    "%matplotlib inline"
   ]
  },
  {
   "cell_type": "code",
   "execution_count": 3,
   "metadata": {},
   "outputs": [],
   "source": [
    "# save files to \"test_titanic\" folder\n",
    "train_org = pd.read_csv(\"test_titanic/train.tsv\", delimiter='\\t')\n",
    "test_org = pd.read_csv(\"test_titanic/test.tsv\", delimiter='\\t')"
   ]
  },
  {
   "cell_type": "code",
   "execution_count": 20,
   "metadata": {},
   "outputs": [],
   "source": [
    "def drop_attribute(data):\n",
    "    data = data.drop('id', axis=1)\n",
    "    data = data.drop('embarked', axis=1)\n",
    "    return data"
   ]
  },
  {
   "cell_type": "code",
   "execution_count": 24,
   "metadata": {},
   "outputs": [],
   "source": [
    "def expand_attribute(data):\n",
    "    data = pd.get_dummies(data)\n",
    "    return data"
   ]
  },
  {
   "cell_type": "code",
   "execution_count": 31,
   "metadata": {},
   "outputs": [],
   "source": [
    "from sklearn.preprocessing import Imputer\n",
    "def replace_nan2median(data):\n",
    "    imp = Imputer(missing_values='NaN', strategy='median', axis=0, verbose=0, copy=True)\n",
    "    imp.fit(data)\n",
    "    data = imp.transform(data)\n",
    "    return pd.DataFrame(data)"
   ]
  },
  {
   "cell_type": "code",
   "execution_count": 33,
   "metadata": {},
   "outputs": [],
   "source": [
    "# preprocessing training data\n",
    "trainY = train_org.loc[:,\"survived\"]\n",
    "trainX = train_org.drop(columns='survived')\n",
    "trainX = drop_attribute(trainX)\n",
    "trainX = expand_attribute(trainX)\n",
    "trainX = replace_nan2median(trainX)"
   ]
  },
  {
   "cell_type": "code",
   "execution_count": 35,
   "metadata": {},
   "outputs": [],
   "source": [
    "# preprocessing test data\n",
    "testX = drop_attribute(test_org)\n",
    "testX = expand_attribute(testX)\n",
    "testX = replace_nan2median(testX)"
   ]
  },
  {
   "cell_type": "markdown",
   "metadata": {},
   "source": [
    "スケーリング"
   ]
  },
  {
   "cell_type": "code",
   "execution_count": 39,
   "metadata": {},
   "outputs": [],
   "source": [
    "from sklearn.preprocessing import StandardScaler\n",
    "def scale(data):\n",
    "    ss = StandardScaler()\n",
    "    data_std = ss.fit_transform(data)\n",
    "    return pd.DataFrame(data_std)"
   ]
  },
  {
   "cell_type": "code",
   "execution_count": 41,
   "metadata": {},
   "outputs": [],
   "source": [
    "trainX = scale(trainX)\n",
    "testX = scale(testX)"
   ]
  },
  {
   "cell_type": "markdown",
   "metadata": {},
   "source": [
    "学習(pipeline)"
   ]
  },
  {
   "cell_type": "code",
   "execution_count": 42,
   "metadata": {
    "scrolled": true
   },
   "outputs": [],
   "source": [
    "from sklearn.pipeline import Pipeline\n",
    "def run_pipeline(estimators):\n",
    "    pipe = Pipeline(estimators)\n",
    "    return pipe"
   ]
  },
  {
   "cell_type": "code",
   "execution_count": 44,
   "metadata": {},
   "outputs": [],
   "source": [
    "from sklearn.model_selection import GridSearchCV\n",
    "def run_GridSearch(pipe, param):\n",
    "    gs = GridSearchCV(pipe, param, n_jobs=1, verbose=2)\n",
    "    return gs"
   ]
  },
  {
   "cell_type": "code",
   "execution_count": 53,
   "metadata": {},
   "outputs": [
    {
     "name": "stdout",
     "output_type": "stream",
     "text": [
      "Fitting 3 folds for each of 10 candidates, totalling 30 fits\n",
      "[CV] clf__C=0.001, clf__kernel=linear ................................\n",
      "[CV] ................. clf__C=0.001, clf__kernel=linear, total=   0.0s\n",
      "[CV] clf__C=0.001, clf__kernel=linear ................................\n",
      "[CV] ................. clf__C=0.001, clf__kernel=linear, total=   0.0s\n",
      "[CV] clf__C=0.001, clf__kernel=linear ................................\n",
      "[CV] ................. clf__C=0.001, clf__kernel=linear, total=   0.0s\n",
      "[CV] clf__C=0.001, clf__kernel=rbf ...................................\n",
      "[CV] .................... clf__C=0.001, clf__kernel=rbf, total=   0.0s\n",
      "[CV] clf__C=0.001, clf__kernel=rbf ...................................\n",
      "[CV] .................... clf__C=0.001, clf__kernel=rbf, total=   0.0s\n",
      "[CV] clf__C=0.001, clf__kernel=rbf ...................................\n",
      "[CV] .................... clf__C=0.001, clf__kernel=rbf, total=   0.0s\n",
      "[CV] clf__C=0.01, clf__kernel=linear .................................\n",
      "[CV] .................. clf__C=0.01, clf__kernel=linear, total=   0.0s\n",
      "[CV] clf__C=0.01, clf__kernel=linear .................................\n",
      "[CV] .................. clf__C=0.01, clf__kernel=linear, total=   0.0s\n",
      "[CV] clf__C=0.01, clf__kernel=linear .................................\n",
      "[CV] .................. clf__C=0.01, clf__kernel=linear, total=   0.0s\n",
      "[CV] clf__C=0.01, clf__kernel=rbf ....................................\n",
      "[CV] ..................... clf__C=0.01, clf__kernel=rbf, total=   0.0s\n",
      "[CV] clf__C=0.01, clf__kernel=rbf ....................................\n",
      "[CV] ..................... clf__C=0.01, clf__kernel=rbf, total=   0.0s\n",
      "[CV] clf__C=0.01, clf__kernel=rbf ....................................\n",
      "[CV] ..................... clf__C=0.01, clf__kernel=rbf, total=   0.0s\n",
      "[CV] clf__C=1, clf__kernel=linear ....................................\n",
      "[CV] ..................... clf__C=1, clf__kernel=linear, total=   0.0s\n",
      "[CV] clf__C=1, clf__kernel=linear ....................................\n",
      "[CV] ..................... clf__C=1, clf__kernel=linear, total=   0.0s\n",
      "[CV] clf__C=1, clf__kernel=linear ....................................\n",
      "[CV] ..................... clf__C=1, clf__kernel=linear, total=   0.0s\n",
      "[CV] clf__C=1, clf__kernel=rbf .......................................\n",
      "[CV] ........................ clf__C=1, clf__kernel=rbf, total=   0.0s\n",
      "[CV] clf__C=1, clf__kernel=rbf .......................................\n",
      "[CV] ........................ clf__C=1, clf__kernel=rbf, total=   0.0s\n",
      "[CV] clf__C=1, clf__kernel=rbf .......................................\n",
      "[CV] ........................ clf__C=1, clf__kernel=rbf, total=   0.0s\n",
      "[CV] clf__C=100.0, clf__kernel=linear ................................\n"
     ]
    },
    {
     "name": "stderr",
     "output_type": "stream",
     "text": [
      "[Parallel(n_jobs=1)]: Done   1 out of   1 | elapsed:    0.0s remaining:    0.0s\n"
     ]
    },
    {
     "name": "stdout",
     "output_type": "stream",
     "text": [
      "[CV] ................. clf__C=100.0, clf__kernel=linear, total=   0.1s\n",
      "[CV] clf__C=100.0, clf__kernel=linear ................................\n",
      "[CV] ................. clf__C=100.0, clf__kernel=linear, total=   0.0s\n",
      "[CV] clf__C=100.0, clf__kernel=linear ................................\n",
      "[CV] ................. clf__C=100.0, clf__kernel=linear, total=   0.0s\n",
      "[CV] clf__C=100.0, clf__kernel=rbf ...................................\n",
      "[CV] .................... clf__C=100.0, clf__kernel=rbf, total=   0.0s\n",
      "[CV] clf__C=100.0, clf__kernel=rbf ...................................\n",
      "[CV] .................... clf__C=100.0, clf__kernel=rbf, total=   0.0s\n",
      "[CV] clf__C=100.0, clf__kernel=rbf ...................................\n",
      "[CV] .................... clf__C=100.0, clf__kernel=rbf, total=   0.0s\n",
      "[CV] clf__C=100000.0, clf__kernel=linear .............................\n",
      "[CV] .............. clf__C=100000.0, clf__kernel=linear, total= 1.0min\n",
      "[CV] clf__C=100000.0, clf__kernel=linear .............................\n",
      "[CV] .............. clf__C=100000.0, clf__kernel=linear, total=  48.8s\n",
      "[CV] clf__C=100000.0, clf__kernel=linear .............................\n",
      "[CV] .............. clf__C=100000.0, clf__kernel=linear, total= 2.0min\n",
      "[CV] clf__C=100000.0, clf__kernel=rbf ................................\n",
      "[CV] ................. clf__C=100000.0, clf__kernel=rbf, total=   0.7s\n",
      "[CV] clf__C=100000.0, clf__kernel=rbf ................................\n",
      "[CV] ................. clf__C=100000.0, clf__kernel=rbf, total=   0.3s\n",
      "[CV] clf__C=100000.0, clf__kernel=rbf ................................\n",
      "[CV] ................. clf__C=100000.0, clf__kernel=rbf, total=   1.8s\n"
     ]
    },
    {
     "name": "stderr",
     "output_type": "stream",
     "text": [
      "[Parallel(n_jobs=1)]: Done  30 out of  30 | elapsed:  3.9min finished\n"
     ]
    },
    {
     "data": {
      "text/plain": [
       "({'clf__C': 1, 'clf__kernel': 'rbf'}, 0.8224719101123595, Pipeline(memory=None,\n",
       "      steps=[('clf', SVC(C=1, cache_size=200, class_weight=None, coef0=0.0,\n",
       "   decision_function_shape='ovr', degree=3, gamma='auto', kernel='rbf',\n",
       "   max_iter=-1, probability=False, random_state=None, shrinking=True,\n",
       "   tol=0.001, verbose=False))]))"
      ]
     },
     "execution_count": 53,
     "metadata": {},
     "output_type": "execute_result"
    }
   ],
   "source": [
    "# 前処理に変更を加えない場合は、以下のパラメータ・識別器の変更をおこない検証する。精度が悪い場合は前処理を見直すこと。\n",
    "from sklearn.svm import SVC\n",
    "\n",
    "C_range = [1e-3, 1e-2, 1, 1e2, 1e5]\n",
    "estimators = [('clf', SVC())]\n",
    "param = {'clf__C':C_range,\n",
    "         'clf__kernel': ['linear', 'rbf']}\n",
    "\n",
    "gs = run_GridSearch(run_pipeline(estimators), param)\n",
    "gs.fit(np.array(trainX), np.array(trainY))\n",
    "gs.best_params_, gs.best_score_, gs.best_estimator_"
   ]
  },
  {
   "cell_type": "markdown",
   "metadata": {},
   "source": [
    "'clf__C': 1, 'clf__kernel': 'rbf'　に従い次工程へ移る"
   ]
  },
  {
   "cell_type": "code",
   "execution_count": 59,
   "metadata": {},
   "outputs": [],
   "source": [
    "testY_pred = gs.predict(testX)"
   ]
  },
  {
   "cell_type": "code",
   "execution_count": 66,
   "metadata": {},
   "outputs": [],
   "source": [
    "submit = pd.DataFrame()\n",
    "submit[0] = test_org.iloc[:,0] # insert id to variable\n",
    "submit[1] = testY_pred # insert predict to variable"
   ]
  },
  {
   "cell_type": "markdown",
   "metadata": {},
   "source": [
    "tsvへ出力する"
   ]
  },
  {
   "cell_type": "code",
   "execution_count": 69,
   "metadata": {},
   "outputs": [],
   "source": [
    "submit.to_csv(\"test_titanic/second.tsv\", sep='\\t',  header=False, index=False)"
   ]
  },
  {
   "cell_type": "code",
   "execution_count": 131,
   "metadata": {},
   "outputs": [],
   "source": [
    "sample.to_csv(\"first.tsv\", sep='\\t', header=False, index=False)"
   ]
  },
  {
   "cell_type": "markdown",
   "metadata": {},
   "source": [
    "https://signate.jp/competitions/102/leaderboard"
   ]
  },
  {
   "cell_type": "code",
   "execution_count": null,
   "metadata": {},
   "outputs": [],
   "source": []
  }
 ],
 "metadata": {
  "kernelspec": {
   "display_name": "Python 3",
   "language": "python",
   "name": "python3"
  },
  "language_info": {
   "codemirror_mode": {
    "name": "ipython",
    "version": 3
   },
   "file_extension": ".py",
   "mimetype": "text/x-python",
   "name": "python",
   "nbconvert_exporter": "python",
   "pygments_lexer": "ipython3",
   "version": "3.6.6"
  }
 },
 "nbformat": 4,
 "nbformat_minor": 2
}
