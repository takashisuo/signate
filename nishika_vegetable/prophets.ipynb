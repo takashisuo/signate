{
 "cells": [
  {
   "cell_type": "code",
   "execution_count": 1,
   "metadata": {},
   "outputs": [],
   "source": [
    "import os\n",
    "import pandas as pd\n",
    "import seaborn as sns\n",
    "from matplotlib import pyplot as plt\n",
    "import plotly.graph_objects as go\n",
    "from sklearn.metrics import mean_absolute_error\n",
    "from sklearn.model_selection import train_test_split\n",
    "from prophet import Prophet"
   ]
  },
  {
   "cell_type": "code",
   "execution_count": null,
   "metadata": {},
   "outputs": [],
   "source": [
    "train_df = pd.read_csv(os.path.join(\".\", \"data\", \"train.csv\"))\n",
    "# prophetはタイムスタンプ: ds, 目的変数: y と定義する必要あり。まずは産地を気にせず結果を出力する。\n",
    "rename_mappings = {\n",
    "    \"date\": \"ds\",\n",
    "    \"price\": \"y\"\n",
    "}\n",
    "\n",
    "test_df = pd.read_csv(os.path.join(\".\", \"data\", \"test.csv\"))\n",
    "test_unique = test_df.unique(\"kind\")\n",
    "\n",
    "train_df.rename(columns=rename_mappings, inplace=True)\n"
   ]
  }
 ],
 "metadata": {
  "kernelspec": {
   "display_name": "Python 3.9.12 ('py39')",
   "language": "python",
   "name": "python3"
  },
  "language_info": {
   "codemirror_mode": {
    "name": "ipython",
    "version": 3
   },
   "file_extension": ".py",
   "mimetype": "text/x-python",
   "name": "python",
   "nbconvert_exporter": "python",
   "pygments_lexer": "ipython3",
   "version": "3.9.12"
  },
  "orig_nbformat": 4,
  "vscode": {
   "interpreter": {
    "hash": "883087307fe87681cbf47ee0229b5cd42f863d1d1e299ac01a4c72e5e7e45007"
   }
  }
 },
 "nbformat": 4,
 "nbformat_minor": 2
}
