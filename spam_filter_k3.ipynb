{
 "cells": [
  {
   "cell_type": "code",
   "execution_count": 103,
   "metadata": {},
   "outputs": [],
   "source": [
    "import numpy as np\n",
    "import pandas as pd\n",
    "import matplotlib.pyplot as plt\n",
    "from sklearn.model_selection import train_test_split\n",
    "from sklearn.feature_extraction.text import CountVectorizer\n",
    "import glob\n",
    "import os\n",
    "import string\n",
    "from sklearn.feature_extraction.text import ENGLISH_STOP_WORDS\n",
    "import re"
   ]
  },
  {
   "cell_type": "code",
   "execution_count": 104,
   "metadata": {},
   "outputs": [],
   "source": [
    "train_df = pd.read_csv(\"train_master.tsv\", delimiter='\\t')"
   ]
  },
  {
   "cell_type": "code",
   "execution_count": 105,
   "metadata": {},
   "outputs": [
    {
     "data": {
      "text/html": [
       "<div>\n",
       "<style scoped>\n",
       "    .dataframe tbody tr th:only-of-type {\n",
       "        vertical-align: middle;\n",
       "    }\n",
       "\n",
       "    .dataframe tbody tr th {\n",
       "        vertical-align: top;\n",
       "    }\n",
       "\n",
       "    .dataframe thead th {\n",
       "        text-align: right;\n",
       "    }\n",
       "</style>\n",
       "<table border=\"1\" class=\"dataframe\">\n",
       "  <thead>\n",
       "    <tr style=\"text-align: right;\">\n",
       "      <th></th>\n",
       "      <th>file_name</th>\n",
       "      <th>label</th>\n",
       "    </tr>\n",
       "  </thead>\n",
       "  <tbody>\n",
       "    <tr>\n",
       "      <th>0</th>\n",
       "      <td>train_0000.txt</td>\n",
       "      <td>0</td>\n",
       "    </tr>\n",
       "    <tr>\n",
       "      <th>1</th>\n",
       "      <td>train_0001.txt</td>\n",
       "      <td>0</td>\n",
       "    </tr>\n",
       "    <tr>\n",
       "      <th>2</th>\n",
       "      <td>train_0002.txt</td>\n",
       "      <td>1</td>\n",
       "    </tr>\n",
       "    <tr>\n",
       "      <th>3</th>\n",
       "      <td>train_0003.txt</td>\n",
       "      <td>1</td>\n",
       "    </tr>\n",
       "    <tr>\n",
       "      <th>4</th>\n",
       "      <td>train_0004.txt</td>\n",
       "      <td>0</td>\n",
       "    </tr>\n",
       "  </tbody>\n",
       "</table>\n",
       "</div>"
      ],
      "text/plain": [
       "        file_name  label\n",
       "0  train_0000.txt      0\n",
       "1  train_0001.txt      0\n",
       "2  train_0002.txt      1\n",
       "3  train_0003.txt      1\n",
       "4  train_0004.txt      0"
      ]
     },
     "execution_count": 105,
     "metadata": {},
     "output_type": "execute_result"
    }
   ],
   "source": [
    "train_df.head()"
   ]
  },
  {
   "cell_type": "code",
   "execution_count": 106,
   "metadata": {},
   "outputs": [
    {
     "name": "stdout",
     "output_type": "stream",
     "text": [
      "        file_name  label                                                txt\n",
      "0  train_0000.txt      0  Subject: re : buyback / deficiency deals works...\n",
      "1  train_0001.txt      0  Subject: fw : stress relief\\n- - - - - origina...\n",
      "2  train_0002.txt      1  Subject: from mrs . juliana\\ndear friend ,\\npl...\n",
      "3  train_0003.txt      1  Subject: [ wrenches ] 68 % off dreamweaver mx ...\n",
      "4  train_0004.txt      0  Subject: y 2 k - texas log\\nname home pager\\ng...\n"
     ]
    }
   ],
   "source": [
    "train_df[\"txt\"] = 0\n",
    "i = 0\n",
    "train_files = glob.glob(\"./train/*.txt\")\n",
    "for file in train_files:\n",
    "    bfilename = os.path.basename(file)\n",
    "    with open(file) as f:\n",
    "        data = f.read()\n",
    "        train_df.loc[i, \"txt\"] = data\n",
    "    i += 1\n",
    "print(train_df.head())\n"
   ]
  },
  {
   "cell_type": "code",
   "execution_count": 107,
   "metadata": {},
   "outputs": [
    {
     "name": "stdout",
     "output_type": "stream",
     "text": [
      "       file_name  label                                                txt\n",
      "0  test_0000.txt      1  Subject: join the thousands who are now sp @ m...\n",
      "1  test_0001.txt      1  Subject: potential list fo 9 / 00\\ndaren :\\npe...\n",
      "2  test_0002.txt      0  Subject: bounce skel @ iit . demokritos . gr :...\n",
      "3  test_0003.txt      1  Subject: hpl meter # 981488 paris tenaska hpl\\...\n",
      "4  test_0004.txt      0  Subject: hpl nom for august 3 , 2000\\n( see at...\n"
     ]
    }
   ],
   "source": [
    "# test\n",
    "test_files = glob.glob(\"./test/*.txt\")\n",
    "test_df = pd.read_csv(\"./sample_submit.csv\", names=('file_name', 'label'))\n",
    "test_df[\"txt\"] = 0\n",
    "i = 0\n",
    "for file in test_files:\n",
    "    bfilename = os.path.basename(file)\n",
    "    with open(file) as f:\n",
    "        data = f.read()\n",
    "        test_df.loc[i, \"txt\"] = data\n",
    "    i += 1\n",
    "print(test_df.head())"
   ]
  },
  {
   "cell_type": "code",
   "execution_count": 108,
   "metadata": {},
   "outputs": [],
   "source": [
    "# preprocess method\n",
    "def to_lower(word):\n",
    "    result = word.lower()\n",
    "    return result\n",
    "\n",
    "def remove_special_characters(word):\n",
    "    result = word.translate(str.maketrans(dict.fromkeys(string.punctuation)))\n",
    "    return result\n",
    "\n",
    "def remove_stop_words(words):\n",
    "    result = [i for i in words if i not in ENGLISH_STOP_WORDS]\n",
    "    return ''.join(result)\n",
    "\n",
    "def remove_hyperlink(word):\n",
    "    return re.sub(r\"http\\S+\", \"\", word)"
   ]
  },
  {
   "cell_type": "code",
   "execution_count": 109,
   "metadata": {},
   "outputs": [],
   "source": [
    "# 小文字へ置換する\n",
    "train_df[\"txt\"] = train_df[\"txt\"].map(to_lower)\n",
    "test_df[\"txt\"] = test_df[\"txt\"].map(to_lower)"
   ]
  },
  {
   "cell_type": "code",
   "execution_count": 110,
   "metadata": {},
   "outputs": [],
   "source": [
    "# 特殊文字の置換\n",
    "train_df[\"txt\"] = train_df[\"txt\"].map(remove_special_characters)\n",
    "test_df[\"txt\"] = test_df[\"txt\"].map(remove_special_characters)"
   ]
  },
  {
   "cell_type": "code",
   "execution_count": 111,
   "metadata": {},
   "outputs": [],
   "source": [
    "# ストップワード削除\n",
    "train_df[\"txt\"] = train_df[\"txt\"].map(remove_stop_words)\n",
    "test_df[\"txt\"] = test_df[\"txt\"].map(remove_stop_words)"
   ]
  },
  {
   "cell_type": "code",
   "execution_count": 112,
   "metadata": {},
   "outputs": [],
   "source": [
    "# URL削除\n",
    "train_df[\"txt\"] = train_df[\"txt\"].map(remove_hyperlink)\n",
    "test_df[\"txt\"] = test_df[\"txt\"].map(remove_hyperlink)"
   ]
  },
  {
   "cell_type": "code",
   "execution_count": 113,
   "metadata": {},
   "outputs": [
    {
     "data": {
      "text/html": [
       "<div>\n",
       "<style scoped>\n",
       "    .dataframe tbody tr th:only-of-type {\n",
       "        vertical-align: middle;\n",
       "    }\n",
       "\n",
       "    .dataframe tbody tr th {\n",
       "        vertical-align: top;\n",
       "    }\n",
       "\n",
       "    .dataframe thead th {\n",
       "        text-align: right;\n",
       "    }\n",
       "</style>\n",
       "<table border=\"1\" class=\"dataframe\">\n",
       "  <thead>\n",
       "    <tr style=\"text-align: right;\">\n",
       "      <th></th>\n",
       "      <th>file_name</th>\n",
       "      <th>label</th>\n",
       "      <th>txt</th>\n",
       "    </tr>\n",
       "  </thead>\n",
       "  <tbody>\n",
       "    <tr>\n",
       "      <th>0</th>\n",
       "      <td>train_0000.txt</td>\n",
       "      <td>0</td>\n",
       "      <td>subject re  buybck  defcency dels worksheet\\nt...</td>\n",
       "    </tr>\n",
       "    <tr>\n",
       "      <th>1</th>\n",
       "      <td>train_0001.txt</td>\n",
       "      <td>0</td>\n",
       "      <td>subject fw  stress relef\\n     orgnl messge   ...</td>\n",
       "    </tr>\n",
       "    <tr>\n",
       "      <th>2</th>\n",
       "      <td>train_0002.txt</td>\n",
       "      <td>1</td>\n",
       "      <td>subject from mrs  juln\\nder frend \\nplese don ...</td>\n",
       "    </tr>\n",
       "    <tr>\n",
       "      <th>3</th>\n",
       "      <td>train_0003.txt</td>\n",
       "      <td>1</td>\n",
       "      <td>subject  wrenches  68  off dremwever mx 2004 f...</td>\n",
       "    </tr>\n",
       "    <tr>\n",
       "      <th>4</th>\n",
       "      <td>train_0004.txt</td>\n",
       "      <td>0</td>\n",
       "      <td>subject y 2 k  texs log\\nnme home pger\\ngeorge...</td>\n",
       "    </tr>\n",
       "  </tbody>\n",
       "</table>\n",
       "</div>"
      ],
      "text/plain": [
       "        file_name  label                                                txt\n",
       "0  train_0000.txt      0  subject re  buybck  defcency dels worksheet\\nt...\n",
       "1  train_0001.txt      0  subject fw  stress relef\\n     orgnl messge   ...\n",
       "2  train_0002.txt      1  subject from mrs  juln\\nder frend \\nplese don ...\n",
       "3  train_0003.txt      1  subject  wrenches  68  off dremwever mx 2004 f...\n",
       "4  train_0004.txt      0  subject y 2 k  texs log\\nnme home pger\\ngeorge..."
      ]
     },
     "execution_count": 113,
     "metadata": {},
     "output_type": "execute_result"
    }
   ],
   "source": [
    "train_df.head()"
   ]
  },
  {
   "cell_type": "code",
   "execution_count": 114,
   "metadata": {},
   "outputs": [
    {
     "name": "stdout",
     "output_type": "stream",
     "text": [
      "Vocabulary size: 8109\n",
      "Vocabulary content: <class 'dict'>\n"
     ]
    }
   ],
   "source": [
    "vectorizer = CountVectorizer(min_df=3, stop_words='english')\n",
    "vectorizer.fit(train_df['txt'])\n",
    "\n",
    "print('Vocabulary size: {}'.format(len(vectorizer.vocabulary_)))\n",
    "print('Vocabulary content: {}'.format(type(vectorizer.vocabulary_)))"
   ]
  },
  {
   "cell_type": "code",
   "execution_count": 115,
   "metadata": {},
   "outputs": [
    {
     "name": "stdout",
     "output_type": "stream",
     "text": [
      "X_train_bow:\n",
      "<2586x8109 sparse matrix of type '<class 'numpy.int64'>'\n",
      "\twith 158555 stored elements in Compressed Sparse Row format>\n",
      "X_test_bow:\n",
      "<2586x8109 sparse matrix of type '<class 'numpy.int64'>'\n",
      "\twith 150156 stored elements in Compressed Sparse Row format>\n"
     ]
    }
   ],
   "source": [
    "# 文章を特徴ベクトル化\n",
    "X_train_bow = vectorizer.transform(train_df['txt'])\n",
    "X_test_bow = vectorizer.transform(test_df['txt'])\n",
    "\n",
    "print('X_train_bow:\\n{}'.format(repr(X_train_bow)))\n",
    "print('X_test_bow:\\n{}'.format(repr(X_test_bow)))"
   ]
  },
  {
   "cell_type": "code",
   "execution_count": 116,
   "metadata": {},
   "outputs": [
    {
     "name": "stdout",
     "output_type": "stream",
     "text": [
      "8109\n"
     ]
    }
   ],
   "source": [
    "print(len(vectorizer.vocabulary_))\n",
    "#print(dict(list(vectorizer.vocabulary_.items())))\n",
    "#print(sorted(dict(list(vectorizer.vocabulary_.items()))), key=lambda x:x[0])"
   ]
  },
  {
   "cell_type": "code",
   "execution_count": 117,
   "metadata": {},
   "outputs": [
    {
     "name": "stdout",
     "output_type": "stream",
     "text": [
      "Train accuracy: 0.972\n"
     ]
    }
   ],
   "source": [
    "from sklearn.naive_bayes import BernoulliNB\n",
    "from sklearn.naive_bayes import MultinomialNB\n",
    "model = MultinomialNB()\n",
    "model.fit(X_train_bow, train_df.loc[:,\"label\"])\n",
    "print('Train accuracy: {:.3f}'.format(model.score(X_train_bow, train_df.loc[:,\"label\"])))"
   ]
  },
  {
   "cell_type": "code",
   "execution_count": 118,
   "metadata": {},
   "outputs": [],
   "source": [
    "pred = model.predict(X_test_bow)"
   ]
  },
  {
   "cell_type": "code",
   "execution_count": 119,
   "metadata": {},
   "outputs": [
    {
     "data": {
      "text/html": [
       "<div>\n",
       "<style scoped>\n",
       "    .dataframe tbody tr th:only-of-type {\n",
       "        vertical-align: middle;\n",
       "    }\n",
       "\n",
       "    .dataframe tbody tr th {\n",
       "        vertical-align: top;\n",
       "    }\n",
       "\n",
       "    .dataframe thead th {\n",
       "        text-align: right;\n",
       "    }\n",
       "</style>\n",
       "<table border=\"1\" class=\"dataframe\">\n",
       "  <thead>\n",
       "    <tr style=\"text-align: right;\">\n",
       "      <th></th>\n",
       "      <th>file</th>\n",
       "      <th>label</th>\n",
       "    </tr>\n",
       "  </thead>\n",
       "  <tbody>\n",
       "    <tr>\n",
       "      <th>0</th>\n",
       "      <td>test_0000.txt</td>\n",
       "      <td>1</td>\n",
       "    </tr>\n",
       "    <tr>\n",
       "      <th>1</th>\n",
       "      <td>test_0001.txt</td>\n",
       "      <td>0</td>\n",
       "    </tr>\n",
       "    <tr>\n",
       "      <th>2</th>\n",
       "      <td>test_0002.txt</td>\n",
       "      <td>1</td>\n",
       "    </tr>\n",
       "    <tr>\n",
       "      <th>3</th>\n",
       "      <td>test_0003.txt</td>\n",
       "      <td>0</td>\n",
       "    </tr>\n",
       "    <tr>\n",
       "      <th>4</th>\n",
       "      <td>test_0004.txt</td>\n",
       "      <td>0</td>\n",
       "    </tr>\n",
       "  </tbody>\n",
       "</table>\n",
       "</div>"
      ],
      "text/plain": [
       "            file label\n",
       "0  test_0000.txt     1\n",
       "1  test_0001.txt     0\n",
       "2  test_0002.txt     1\n",
       "3  test_0003.txt     0\n",
       "4  test_0004.txt     0"
      ]
     },
     "execution_count": 119,
     "metadata": {},
     "output_type": "execute_result"
    }
   ],
   "source": [
    "test_files = glob.glob(\"./test/*.txt\")\n",
    "submit_df = pd.DataFrame(columns=[\"file\", \"label\"])\n",
    "for i, file in enumerate(test_files):\n",
    "    tmp_se = pd.Series([os.path.basename(file), pred[i]])\n",
    "    submit_df.loc[i, \"file\"] = os.path.basename(file)\n",
    "    submit_df.loc[i, \"label\"] = pred[i]\n",
    "submit_df.head()"
   ]
  },
  {
   "cell_type": "code",
   "execution_count": 120,
   "metadata": {},
   "outputs": [],
   "source": [
    "submit_df.to_csv(\"./submit_bow_MultinomialNB_preproc.csv\", header=None, index=0)"
   ]
  },
  {
   "cell_type": "code",
   "execution_count": null,
   "metadata": {},
   "outputs": [],
   "source": []
  }
 ],
 "metadata": {
  "kernelspec": {
   "display_name": "Python 3",
   "language": "python",
   "name": "python3"
  },
  "language_info": {
   "codemirror_mode": {
    "name": "ipython",
    "version": 3
   },
   "file_extension": ".py",
   "mimetype": "text/x-python",
   "name": "python",
   "nbconvert_exporter": "python",
   "pygments_lexer": "ipython3",
   "version": "3.6.6"
  }
 },
 "nbformat": 4,
 "nbformat_minor": 2
}
